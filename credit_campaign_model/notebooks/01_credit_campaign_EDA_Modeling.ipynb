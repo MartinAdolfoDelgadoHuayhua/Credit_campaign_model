# Credit Campaign Modeling Notebook
Este notebook contiene el flujo completo:
1. Exploración de datos (EDA)
2. Preprocesamiento
3. Entrenamiento del modelo
4. Evaluación (ROC, PR, Lift)
5. Interpretabilidad (SHAP)
